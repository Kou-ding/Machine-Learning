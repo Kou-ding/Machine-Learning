{
 "cells": [
  {
   "cell_type": "markdown",
   "metadata": {
    "id": "SbRUAhn0yS7d"
   },
   "source": [
    "## Εργασία 1 ##\n",
    "\n",
    "Καλωσήρθατε στην πρώτη σας εργασία. Η εργασία αυτή έχει σκοπό να σας βοηθήσει να εμπεδώσετε τα γραμμικά μοντέλα.\n",
    "\n",
    "Τα Jupyter Notebooks είναι αλληλεπιδραστικά περιβάλλοντα προγραμματισμού ενσωματωμένα σε μια ιστοσελίδα. Στο μάθημα \"Μηχανική Μάθηση\" τα χρησιμοποιούμε στο πρακτικό μέρος του μαθήματος.\n",
    "\n",
    "Στην εργασία αυτή θα πρέπει να συμπληρώσετε κώδικα Python 3 στα σημεία που αναφέρουν # YOUR CODE HERE. Μην τροποποιείτε τον κώδικα που βρίσκεται εκτός αυτών των περιοχών.\n",
    "\n",
    "Πρωτού παραδόσετε την εργασία σας σιγουρευτείτε ότι ο κώδικας σε όλα τα κελιά τρέχει σωστά. Για το σκοπό αυτό επιλέξτε από το μενού **Χρόνος εκτέλεσης (runtime) -> Επανεκίνηση περιόδου λειτουργίας και εκτέλεση όλων**.\n",
    "\n",
    "Συμπληρώστε το όνομα (**NAME**) και το **AEM** σας παρακάτω:"
   ]
  },
  {
   "cell_type": "code",
   "execution_count": 1,
   "metadata": {
    "id": "hqydZgkhyS7e"
   },
   "outputs": [],
   "source": [
    "NAME = \"Παπαδάκης Κωνσταντίνος Φώτιος\"\n",
    "AEM = \"10371\""
   ]
  },
  {
   "cell_type": "markdown",
   "metadata": {
    "id": "efWi_mAhyS7i"
   },
   "source": [
    "## Μέρος Α: 5 μονάδες ##\n",
    "\n",
    "Σε αυτό το μέρος της άσκησης θα χτίσουμε ένα μοντέλο γραμμικής παλινδρόμησης από το μηδέν."
   ]
  },
  {
   "cell_type": "markdown",
   "metadata": {
    "id": "X-YjgAG3yS7i"
   },
   "source": [
    "**Α1 (1 μονάδα):** Υλοποιήστε τη σιγμοειδή συνάρτηση $\\sigma(z)= \\dfrac{1}{1 + exp(-z)}$ με τη NumPy."
   ]
  },
  {
   "cell_type": "code",
   "execution_count": 7,
   "metadata": {
    "deletable": false,
    "id": "ewzwUz6AyS7i",
    "nbgrader": {
     "checksum": "2596e740fdb99f94192d5b5e5955e417",
     "grade": false,
     "grade_id": "cell-c21b32f8218a444e",
     "locked": false,
     "schema_version": 3,
     "solution": true,
     "task": false
    }
   },
   "outputs": [],
   "source": [
    "import numpy as np\n",
    "\n",
    "def sigmoid(z):\n",
    "    \"\"\"Υπολογίζει τη σιγμοειδή συνάρτηση.\"\"\"\n",
    "    # Sigmoid function\n",
    "    sigma=1/(1+np.exp(-z))\n",
    "    return sigma\n",
    "    "
   ]
  },
  {
   "cell_type": "code",
   "execution_count": 2,
   "metadata": {
    "deletable": false,
    "editable": false,
    "id": "DxZARTBEyS7i",
    "nbgrader": {
     "checksum": "b3a6c82570a346e091fc8e9f3c3d4198",
     "grade": true,
     "grade_id": "cell-c522a25040bf7202",
     "locked": true,
     "points": 1,
     "schema_version": 3,
     "solution": false,
     "task": false
    }
   },
   "outputs": [],
   "source": [
    "\"\"\"Τεστ ορθού υπολογισμού σιγμοειδούς.\"\"\"\n",
    "assert sigmoid(0) == 0.5\n",
    "assert np.round(sigmoid(7),8) == 0.99908895\n",
    "assert np.round(sigmoid(-1),8) == 0.26894142"
   ]
  },
  {
   "cell_type": "markdown",
   "metadata": {
    "id": "KzdfavCXyS7i"
   },
   "source": [
    "**Α2 (4 μονάδες):** Υλοποιήστε κλάση για τον αλγόριθμο της λογιστικής παλινδρόμησης. Αρχικοποιήστε τις παραμέτρους σε μηδενικές τιμές. Αποθηκεύστε τες στο διάνυσμα στήλη theta. Η συνάρτηση fit πρέπει να δέχεται πίνακα X με τις τιμές των μεταβλητών εισόδου και διάνυσμα στήλη y με τις τιμές της μεταβλητής εξόδου. Η συνάρτηση predict πρέπει να δέχεται πίνακα Χ με τις τιμές των μεταβλητών εισόδου."
   ]
  },
  {
   "cell_type": "code",
   "execution_count": 34,
   "metadata": {
    "deletable": false,
    "id": "p_-ly8L1yS7i",
    "nbgrader": {
     "checksum": "0875eb2ff3083c0d5a365dfe1d72f3af",
     "grade": false,
     "grade_id": "cell-9df008253a524001",
     "locked": false,
     "schema_version": 3,
     "solution": true,
     "task": false
    }
   },
   "outputs": [],
   "source": [
    "class MyLogisticRegression:\n",
    "    def __init__(self, num_iterations=2000, learning_rate=0.004):\n",
    "      self.theta = None\n",
    "      self.num_iterations = num_iterations\n",
    "      self.learning_rate = learning_rate\n",
    "\n",
    "    def fit(self, X, y):\n",
    "      \"\"\" Fit the model according to the given training data. \"\"\"\n",
    "      # Number of training examples and features m: number of training examples, n: number of features\n",
    "      m, n = X.shape  \n",
    "      # Add bias term to X\n",
    "      X = np.c_[np.ones((m, 1)), X]  # Add a column of ones\n",
    "      # Initialize theta with zeros\n",
    "      self.theta = np.zeros((n+1, 1))\n",
    "\n",
    "      # Weight calculation\n",
    "      for _ in range(self.num_iterations):\n",
    "        # Calculate hypothesis\n",
    "        hypothesis = sigmoid(np.dot(X,self.theta))\n",
    "        # Calculate gradient\n",
    "        gradient = (1/m) * np.dot(X.T, (hypothesis - y))\n",
    "        # Update weights\n",
    "        self.theta = self.theta - self.learning_rate * gradient\n",
    "\n",
    "    def predict(self, X):\n",
    "      \"\"\"Predict class labels for input X\"\"\"\n",
    "      X = np.c_[np.ones((X.shape[0], 1)), X]  # Add bias term\n",
    "      # Calculate the hypothesis\n",
    "      hypothesis = sigmoid(np.dot(X, self.theta))\n",
    "      # Predict class\n",
    "      return (hypothesis >= 0.5).astype(int)\n",
    "\n",
    "        \n"
   ]
  },
  {
   "cell_type": "code",
   "execution_count": 35,
   "metadata": {
    "deletable": false,
    "editable": false,
    "id": "g7__5gzSyS7i",
    "nbgrader": {
     "checksum": "ad42e5add09c0da3bd4e33a655e7e919",
     "grade": true,
     "grade_id": "cell-af8b565ded602dc1",
     "locked": true,
     "points": 2,
     "schema_version": 3,
     "solution": false,
     "task": false
    }
   },
   "outputs": [],
   "source": [
    "\"\"\"Τεστ ορθής λειτουργίας fit\"\"\"\n",
    "from sklearn.datasets import make_blobs\n",
    "\n",
    "# δημιουργία δύο ομάδων από τυχαία σημεία με κέντρο 0,0,0 και 3,3,3 και τυπική απόκλιση 1\n",
    "centers = [[0.0, 0.0, 0.0], [3.0, 3.0, 3.0]]\n",
    "X, y = make_blobs(n_samples=200, centers=centers,\n",
    "                  random_state=47, shuffle=False)\n",
    "y = np.array(y).reshape(-1,1)\n",
    "\n",
    "lr = MyLogisticRegression()\n",
    "lr.fit(X, y)\n",
    "\n",
    "assert np.allclose(lr.theta, np.array([[-1.1772064],[0.5026043],[0.40811666],[0.55685573]]))"
   ]
  },
  {
   "cell_type": "code",
   "execution_count": 36,
   "metadata": {
    "deletable": false,
    "editable": false,
    "id": "XKxRfP9MyS7i",
    "nbgrader": {
     "checksum": "2c9c271ac454af5fa86f10e0eb364640",
     "grade": true,
     "grade_id": "cell-e66896ed86d1a7ce",
     "locked": true,
     "points": 2,
     "schema_version": 3,
     "solution": false,
     "task": false
    }
   },
   "outputs": [],
   "source": [
    "\"\"\"Τεστ ορθής λειτουργίας predict\"\"\"\n",
    "from sklearn.datasets import make_blobs\n",
    "\n",
    "# δημιουργία δύο ομάδων από τυχαία σημεία με κέντρο 0,0,0 και 3,3,3 και τυπική απόκλιση 1\n",
    "centers = [[0.0, 0.0, 0.0], [3.0, 3.0, 3.0]]\n",
    "X, y = make_blobs(n_samples=200, centers=centers,\n",
    "                  random_state=47, shuffle=False)\n",
    "y = np.array(y).reshape(-1,1)\n",
    "\n",
    "lr = MyLogisticRegression()\n",
    "lr.fit(X, y)\n",
    "\n",
    "assert np.allclose(lr.predict(X[[0,199],:]), np.array([[0],[1]]))"
   ]
  },
  {
   "cell_type": "markdown",
   "metadata": {
    "id": "bZFfRjJWPqXo"
   },
   "source": [
    "## Μέρος B: Χρήση μοντέλου στο σύνολο digits (3 μονάδες)\n",
    "\n",
    "Σε αυτό το μέρος θα δουλέψουμε με το σύνολο δεδομένων digits (https://scikit-learn.org/stable/datasets/toy_dataset.html#digits-dataset), το οποίο αφορά μια εργασία αναγνώρισης ψηφίων (0 έως 9) από δυαδικές εικόνες  διαστάσεων 32x32 με χειρόγραφα ψηφία, οι οποίες χωρίστηκαν σε 64 (8x8) τμήματα των 4x4 δυαδικών στοιχείων, και σε κάθε ένα από αυτά τα 64 τμήματα μετρήθηκαν πόσα από τα 16 (4x4) στοιχεία είχε τιμή 1."
   ]
  },
  {
   "cell_type": "markdown",
   "metadata": {
    "id": "a3rVRpWdCnzo"
   },
   "source": [
    "Αρχικά θα φορτώσουμε τα δεδομένα"
   ]
  },
  {
   "cell_type": "code",
   "execution_count": 48,
   "metadata": {
    "executionInfo": {
     "elapsed": 8920,
     "status": "ok",
     "timestamp": 1741787348461,
     "user": {
      "displayName": "Grigorios Tsoumakas",
      "userId": "13048321804834071528"
     },
     "user_tz": -120
    },
    "id": "mnf7aD6CCmuJ"
   },
   "outputs": [],
   "source": [
    "from sklearn.datasets import load_digits\n",
    "digits = load_digits()\n",
    "X = digits.data\n",
    "y = digits.target"
   ]
  },
  {
   "cell_type": "markdown",
   "metadata": {
    "id": "C2Fmpg7HozgA"
   },
   "source": [
    "**Β1**: Χρησιμοποιήστε την κλάση OneVsOneClαssifier της sklearn σε συνδυασμό με την κλάση LogisticRegression για να εκπαιδεύσετε ένα μοντέλο λογιστικής παλινδρόμησης για κάθε ζεύγος κλάσης. Χρησιμοποιήστε προκαθορισμένες ρυθμίσεις στις παραμέτρους της κλάσης LogisticRegression, αλλά θέστε τον μέγιστο αριθμό επαναλήψεων σε 1000 και την παράμετρο random_state σε 42. Ονομάστε ovo το αντικείμενο της κλάσης."
   ]
  },
  {
   "cell_type": "code",
   "execution_count": null,
   "metadata": {
    "deletable": false,
    "id": "oq10fSboiey4",
    "nbgrader": {
     "checksum": "7e924a1869cdc08a1a54dc97809e36b7",
     "grade": false,
     "grade_id": "cell-af2802386b6e670c",
     "locked": false,
     "schema_version": 3,
     "solution": true,
     "task": false
    }
   },
   "outputs": [],
   "source": [
    "from sklearn.multiclass import OneVsOneClassifier\n",
    "\n",
    "# Create the OneVsOneClassifier with MyLogisticRegression\n",
    "ovo = OneVsOneClassifier(MyLogisticRegression(num_iterations=1000, learning_rate=0.004))\n"
   ]
  },
  {
   "cell_type": "code",
   "execution_count": 53,
   "metadata": {
    "deletable": false,
    "editable": false,
    "id": "tDgbHaT8xNQc",
    "nbgrader": {
     "checksum": "ced68c8c9a4ba4880ab4e6b5c87b6522",
     "grade": true,
     "grade_id": "cell-8d665284d26f1439",
     "locked": true,
     "points": 1,
     "schema_version": 3,
     "solution": false,
     "task": false
    }
   },
   "outputs": [
    {
     "ename": "AttributeError",
     "evalue": "'OneVsOneClassifier' object has no attribute 'estimators_'",
     "output_type": "error",
     "traceback": [
      "\u001b[31m---------------------------------------------------------------------------\u001b[39m",
      "\u001b[31mAttributeError\u001b[39m                            Traceback (most recent call last)",
      "\u001b[36mCell\u001b[39m\u001b[36m \u001b[39m\u001b[32mIn[53]\u001b[39m\u001b[32m, line 2\u001b[39m\n\u001b[32m      1\u001b[39m \u001b[38;5;66;03m#έλεγχος ορθής λειτουργίας\u001b[39;00m\n\u001b[32m----> \u001b[39m\u001b[32m2\u001b[39m \u001b[38;5;28;01massert\u001b[39;00m \u001b[38;5;28mlen\u001b[39m(\u001b[43movo\u001b[49m\u001b[43m.\u001b[49m\u001b[43mestimators_\u001b[49m) == \u001b[32m45\u001b[39m\n\u001b[32m      3\u001b[39m \u001b[38;5;28;01massert\u001b[39;00m ovo.estimators_[\u001b[32m0\u001b[39m].coef_.shape == (\u001b[32m1\u001b[39m, \u001b[32m64\u001b[39m)\n",
      "\u001b[31mAttributeError\u001b[39m: 'OneVsOneClassifier' object has no attribute 'estimators_'"
     ]
    }
   ],
   "source": [
    "#έλεγχος ορθής λειτουργίας\n",
    "assert len(ovo.estimators_) == 45\n",
    "assert ovo.estimators_[0].coef_.shape == (1, 64)"
   ]
  },
  {
   "cell_type": "markdown",
   "metadata": {
    "id": "WrSwi-sBD-uE"
   },
   "source": [
    "**Β2**: Χρησιμοποιήστε την κλάση OneVsRestClαssifier της sklearn σε συνδυασμό με την κλάση LogisticRegression για να εκπαιδεύσετε ένα μοντέλο λογιστικής παλινδρόμησης για κάθε κλάση. Χρησιμοποιήστε προκαθορισμένες ρυθμίσεις στις παραμέτρους της κλάσης LogisticRegression, αλλά θέστε τον μέγιστο αριθμό επαναλήψεων σε 1000 και την παράμετρο random_state σε 42. Ονομάστε ovr το αντικείμενο της κλάσης."
   ]
  },
  {
   "cell_type": "code",
   "execution_count": null,
   "metadata": {
    "deletable": false,
    "id": "1MDw3AD_6NAA",
    "nbgrader": {
     "checksum": "ccb8eb6ac227cbda1ee0ef1e3168ef49",
     "grade": false,
     "grade_id": "cell-6c560b0710b9c36e",
     "locked": false,
     "schema_version": 3,
     "solution": true,
     "task": false
    }
   },
   "outputs": [],
   "source": [
    "# YOUR CODE HERE\n",
    "raise NotImplementedError()"
   ]
  },
  {
   "cell_type": "code",
   "execution_count": null,
   "metadata": {
    "deletable": false,
    "editable": false,
    "id": "TsN8NGnB6TwZ",
    "nbgrader": {
     "checksum": "06059bebb2262c844439e5b466a12f5e",
     "grade": true,
     "grade_id": "cell-646092c39e8f2ecc",
     "locked": true,
     "points": 0.5,
     "schema_version": 3,
     "solution": false,
     "task": false
    }
   },
   "outputs": [],
   "source": [
    "#έλεγχος ορθής λειτουργίας\n",
    "assert len(ovr.estimators_) == 10\n",
    "assert ovr.estimators_[0].coef_.shape == (1, 64)"
   ]
  },
  {
   "cell_type": "markdown",
   "metadata": {
    "id": "sb-PK5-_EShG"
   },
   "source": [
    "**Β3**: Ορίστε συνάρτηση που δέχεται ένα μοντέλο, και ένα σύνολο δεδομένων, συγκρίνει τις πραγματικές τιμές της μεταβλητής εξόδου με τις προβλέψεις του μοντέλου χρησιμοποιώντας τη συνάρτηση predict του μοντέλου και επιστρέφει τους δείκτες των παραδειγμάτων τα οποία το μοντέλο ταξινομεί εσφαλμένα."
   ]
  },
  {
   "cell_type": "code",
   "execution_count": null,
   "metadata": {
    "deletable": false,
    "id": "tSEBE702-5pz",
    "nbgrader": {
     "checksum": "e3bdc2405cfe597f3128d8eb074eb0d2",
     "grade": false,
     "grade_id": "cell-e40147c2a0fa29ac",
     "locked": false,
     "schema_version": 3,
     "solution": true,
     "task": false
    }
   },
   "outputs": [],
   "source": [
    "def find_misclassified(classifier, input, output):\n",
    "  # YOUR CODE HERE\n",
    "  raise NotImplementedError()"
   ]
  },
  {
   "cell_type": "code",
   "execution_count": null,
   "metadata": {
    "deletable": false,
    "editable": false,
    "id": "0kaHzLN0FnPo",
    "nbgrader": {
     "checksum": "002ea1b9f9b626f38a2ca48ed183d6ef",
     "grade": true,
     "grade_id": "cell-8e6e82a7e6b2a012",
     "locked": true,
     "points": 1,
     "schema_version": 3,
     "solution": false,
     "task": false
    }
   },
   "outputs": [],
   "source": [
    "#έλεγχος ορθής λειτουργίας\n",
    "output = find_misclassified(ovr, X, y)\n",
    "expected = np.array([524, 890, 1553, 1658])\n",
    "np.testing.assert_array_equal(output, expected)"
   ]
  },
  {
   "cell_type": "markdown",
   "metadata": {
    "id": "wzPSel2iEEu2"
   },
   "source": [
    "Μια εικόνα που δεν τα πάει καλά το μοντέλο είναι η 525η με δείκτη 524. Το μοντέλο προβλέπει τον αριθμό 3, ενώ η εικόνα (υποτίθεται ότι) απεικονίζει τον αριθμό 8."
   ]
  },
  {
   "cell_type": "code",
   "execution_count": null,
   "metadata": {
    "id": "nqqk-Se6-fqk"
   },
   "outputs": [],
   "source": [
    "print(ovr.predict(X[524:525]))\n",
    "print(y[524:525])"
   ]
  },
  {
   "cell_type": "markdown",
   "metadata": {
    "id": "DFJwqO3jHaae"
   },
   "source": [
    "Εμφανίζοντας την εικόνα μπορούμε να διαπιστώσουμε γιατί δυσκολεύεται το μοντέλο με τα ίδια μας τα μάτια."
   ]
  },
  {
   "cell_type": "code",
   "execution_count": 2,
   "metadata": {
    "colab": {
     "base_uri": "https://localhost:8080/",
     "height": 428
    },
    "executionInfo": {
     "elapsed": 263,
     "status": "ok",
     "timestamp": 1741787364910,
     "user": {
      "displayName": "Grigorios Tsoumakas",
      "userId": "13048321804834071528"
     },
     "user_tz": -120
    },
    "id": "3wCdgEpEASOh",
    "outputId": "c6b6aa31-714f-4a79-816b-abcb0433d3ad"
   },
   "outputs": [
    {
     "data": {
      "image/png": "[encoded data removed]",
      "text/plain": [
       "<Figure size 640x480 with 1 Axes>"
      ]
     },
     "metadata": {},
     "output_type": "display_data"
    }
   ],
   "source": [
    "from matplotlib import pyplot as plt\n",
    "\n",
    "image = digits.images[524]\n",
    "\n",
    "# Plot the image\n",
    "plt.imshow(image, cmap='gray')\n",
    "plt.title(f'Digit: {digits.target[0]}')  # Show the corresponding label\n",
    "plt.axis('off')  # Turn off the axis labels\n",
    "plt.show()"
   ]
  },
  {
   "cell_type": "markdown",
   "metadata": {
    "id": "ecAYhVtU7RTC"
   },
   "source": [
    "**Β4**: Τέλος χρησιμοποιήστε την κλάση LogisticRegression απο μόνη της για να εκπαιδεύσετε ένα μοντέλο πολυχοτομικής λογιστικής παλινδρόμησης. Χρησιμοποιήστε προκαθορισμένες ρυθμίσεις στις παραμέτρους της κλάσης LogisticRegression, αλλά θέστε τον μέγιστο αριθμό επαναλήψεων σε 1000 και την παράμετρο random_state σε 42."
   ]
  },
  {
   "cell_type": "code",
   "execution_count": null,
   "metadata": {
    "deletable": false,
    "id": "0KLtf4wm_bmf",
    "nbgrader": {
     "checksum": "67fd4425b2973bcc3f895944c117778c",
     "grade": false,
     "grade_id": "cell-559d7e576b15d22b",
     "locked": false,
     "schema_version": 3,
     "solution": true,
     "task": false
    }
   },
   "outputs": [],
   "source": [
    "# YOUR CODE HERE\n",
    "raise NotImplementedError()"
   ]
  },
  {
   "cell_type": "code",
   "execution_count": null,
   "metadata": {
    "deletable": false,
    "editable": false,
    "id": "hbCeQh1nJyv8",
    "nbgrader": {
     "checksum": "34f6896c1ddc1f252b24f36d5f2eee1e",
     "grade": true,
     "grade_id": "cell-de33c91755e1dc13",
     "locked": true,
     "points": 0.5,
     "schema_version": 3,
     "solution": false,
     "task": false
    }
   },
   "outputs": [],
   "source": [
    "#έλεγχος ορθής λειτουργίας\n",
    "assert clf.coef_.shape == (10, 64)"
   ]
  },
  {
   "cell_type": "markdown",
   "metadata": {
    "id": "3ct1SX0TMJ-3"
   },
   "source": [
    "## Μέρος Γ: Χρήση μοντέλου στο σύνολο breast cancer (2 μονάδες)\n",
    "\n",
    "Σε αυτό το μέρος θα δουλέψουμε με το σύνολο δεδομένων breast cancer (https://scikit-learn.org/stable/datasets/toy_dataset.html#breast-cancer-dataset), το οποίο αφορά την ταξινόμηση ψηφιακών εικόνων μικροσκοπίου με κύτταρα που έχουν εξαχθεί από μαστό μέσω βιοψίας με λεπτή βελόνα."
   ]
  },
  {
   "cell_type": "code",
   "execution_count": null,
   "metadata": {
    "id": "aEG8UfTXRaBf"
   },
   "outputs": [],
   "source": [
    "from sklearn.datasets import load_breast_cancer\n",
    "bca = load_breast_cancer()\n",
    "X = bca.data\n",
    "y = bca.target"
   ]
  },
  {
   "cell_type": "markdown",
   "metadata": {
    "id": "x45aU19tOezv"
   },
   "source": [
    "Επειδή τα εύρη τιμών των μεταβλητών διαφέρουν, εφαρμόστε προτυποποίηση στα δεδομένα εισόδου."
   ]
  },
  {
   "cell_type": "code",
   "execution_count": null,
   "metadata": {
    "deletable": false,
    "id": "UG8_NAILOnad",
    "nbgrader": {
     "checksum": "c277b0f13185c7c5b6170c2e3c6c5794",
     "grade": false,
     "grade_id": "cell-d3b721f09e7cc1fb",
     "locked": false,
     "schema_version": 3,
     "solution": true,
     "task": false
    }
   },
   "outputs": [],
   "source": [
    "# YOUR CODE HERE\n",
    "raise NotImplementedError()"
   ]
  },
  {
   "cell_type": "code",
   "execution_count": null,
   "metadata": {
    "deletable": false,
    "editable": false,
    "id": "ZyISBY9xPKD6",
    "nbgrader": {
     "checksum": "685b6a4882a6f651fedb90f4cdba0106",
     "grade": true,
     "grade_id": "cell-c272b8d06bf17bfd",
     "locked": true,
     "points": 1,
     "schema_version": 3,
     "solution": false,
     "task": false
    }
   },
   "outputs": [],
   "source": [
    "#έλεγχος ορθής λειτουργίας\n",
    "assert np.allclose(np.mean(X,axis=0), np.zeros(30), atol=0.01)"
   ]
  },
  {
   "cell_type": "markdown",
   "metadata": {
    "id": "2gmocKm8Q4Et"
   },
   "source": [
    "Παρακάτω εκπαιδεύουμε ένα μοντέλο λογιστικής παλινδρόμησης με προκαθορισμένες ρυθμίσεις στις παραμέτρους και παράμετρο random_state ίση με 42."
   ]
  },
  {
   "cell_type": "code",
   "execution_count": null,
   "metadata": {
    "id": "pswJ9vnHOTSw"
   },
   "outputs": [],
   "source": [
    "clf = LogisticRegression(random_state=42)\n",
    "clf.fit(X,y)"
   ]
  },
  {
   "cell_type": "markdown",
   "metadata": {
    "id": "HO4_XTDXRoOD"
   },
   "source": [
    "Υλοποιήστε συνάρτηση που δέχεται μοντέλο λογιστικής παλινδρόμησης δυαδικής ταξινόμησης σαν το παραπάνω καθώς και πίνακα συμβολοσειρών με τα ονόματα των μεταβλητών εισόδου και επιστρέφει τη σημαντικότερη μεταβλητή εισόδου."
   ]
  },
  {
   "cell_type": "code",
   "execution_count": null,
   "metadata": {
    "deletable": false,
    "id": "5YeKYhl4RoVU",
    "nbgrader": {
     "checksum": "be7625bb8d571c0c4de7090772f9cae4",
     "grade": false,
     "grade_id": "cell-d33dd48037ea5425",
     "locked": false,
     "schema_version": 3,
     "solution": true,
     "task": false
    }
   },
   "outputs": [],
   "source": [
    "def best_feature(model, feature_names):\n",
    "    # YOUR CODE HERE\n",
    "    raise NotImplementedError()"
   ]
  },
  {
   "cell_type": "code",
   "execution_count": null,
   "metadata": {
    "deletable": false,
    "editable": false,
    "id": "qelrS5jZR766",
    "nbgrader": {
     "checksum": "e3f558c896088651d886c0f9c0358e5d",
     "grade": true,
     "grade_id": "cell-b2541dc0d7d3114c",
     "locked": true,
     "points": 1,
     "schema_version": 3,
     "solution": false,
     "task": false
    }
   },
   "outputs": [],
   "source": [
    "#έλεγχος ορθής λειτουργίας\n",
    "assert best_feature(clf, bca.feature_names) == 'worst texture'"
   ]
  }
 ],
 "metadata": {
  "colab": {
   "provenance": []
  },
  "kernelspec": {
   "display_name": "Python 3",
   "language": "python",
   "name": "python3"
  },
  "language_info": {
   "codemirror_mode": {
    "name": "ipython",
    "version": 3
   },
   "file_extension": ".py",
   "mimetype": "text/x-python",
   "name": "python",
   "nbconvert_exporter": "python",
   "pygments_lexer": "ipython3",
   "version": "3.13.2"
  }
 },
 "nbformat": 4,
 "nbformat_minor": 0
}
