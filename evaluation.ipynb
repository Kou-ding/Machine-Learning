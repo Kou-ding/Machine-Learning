{
  "nbformat": 4,
  "nbformat_minor": 0,
  "metadata": {
    "colab": {
      "provenance": [],
      "toc_visible": true
    },
    "kernelspec": {
      "name": "python3",
      "display_name": "Python 3"
    },
    "language_info": {
      "name": "python"
    }
  },
  "cells": [
    {
      "cell_type": "markdown",
      "source": [
        "# Μετρικές αξιολόγησης #"
      ],
      "metadata": {
        "id": "aQEosUht6H5s"
      }
    },
    {
      "cell_type": "markdown",
      "source": [
        "## Παλινδρόμηση ##"
      ],
      "metadata": {
        "id": "SpmqSnYb7ESC"
      }
    },
    {
      "cell_type": "markdown",
      "source": [
        "Δεδομένα που θα χρησιμοποιήσουμε"
      ],
      "metadata": {
        "id": "p9TTvxcy5q1w"
      }
    },
    {
      "cell_type": "code",
      "source": [
        "from sklearn import datasets\n",
        "\n",
        "diabetes = datasets.load_diabetes()\n",
        "X = diabetes.data\n",
        "y = diabetes.target"
      ],
      "metadata": {
        "id": "MlrXhGZ36Hqq"
      },
      "execution_count": null,
      "outputs": []
    },
    {
      "cell_type": "markdown",
      "source": [
        "Αλγόριθμος που θα χρησιμοποιήσουμε"
      ],
      "metadata": {
        "id": "oqOkkzK47CC6"
      }
    },
    {
      "cell_type": "code",
      "source": [
        "from sklearn.linear_model import LinearRegression\n",
        "\n",
        "model = LinearRegression()"
      ],
      "metadata": {
        "id": "h_Qvwrcs7Dqu"
      },
      "execution_count": null,
      "outputs": []
    },
    {
      "cell_type": "markdown",
      "source": [
        "Αξιολόγηση σε ένα σύνολο ελέγχου"
      ],
      "metadata": {
        "id": "cBgvSyku6izv"
      }
    },
    {
      "cell_type": "code",
      "source": [
        "from sklearn.model_selection import train_test_split\n",
        "\n",
        "X_train, X_test, y_train, y_test = train_test_split(X, y, random_state=0, test_size=0.2, shuffle=True)\n",
        "\n",
        "model.fit(X_train, y_train)\n",
        "y_pred = model.predict(X_test)"
      ],
      "metadata": {
        "id": "h6CL47GP6i6P"
      },
      "execution_count": null,
      "outputs": []
    },
    {
      "cell_type": "markdown",
      "source": [
        "Υπολογισμός μετρικών"
      ],
      "metadata": {
        "id": "QBwqkm1K8YJf"
      }
    },
    {
      "cell_type": "code",
      "source": [
        "from sklearn.metrics import r2_score, mean_squared_error, mean_absolute_error, mean_absolute_percentage_error\n",
        "\n",
        "print(\"MAE: {:.2f}\".format(mean_absolute_error(y_test,y_pred)))\n",
        "print(\"RMSE: {:.2f}\".format(mean_squared_error(y_test,y_pred) ** (1/2)))\n",
        "print(\"R2: {:.2f}\".format(r2_score(y_test,y_pred)))\n",
        "print(\"MAPE: {:.2f}\".format(mean_absolute_percentage_error(y_test,y_pred)))"
      ],
      "metadata": {
        "colab": {
          "base_uri": "https://localhost:8080/"
        },
        "id": "4VEwbT0M7iRP",
        "outputId": "3435dbab-0ff7-4d3b-ce74-e86a7d10243f"
      },
      "execution_count": null,
      "outputs": [
        {
          "output_type": "stream",
          "name": "stdout",
          "text": [
            "MAE: 46.17\n",
            "RMSE: 58.52\n",
            "R2: 0.33\n",
            "MAPE: 0.38\n"
          ]
        }
      ]
    },
    {
      "cell_type": "markdown",
      "source": [
        "## Ταξινόμηση #"
      ],
      "metadata": {
        "id": "GOkP8omg6gQD"
      }
    },
    {
      "cell_type": "markdown",
      "source": [
        "Δεδομένα που θα χρησιμοποιήσουμε"
      ],
      "metadata": {
        "id": "XSfMNLvf6VJC"
      }
    },
    {
      "cell_type": "code",
      "execution_count": null,
      "metadata": {
        "id": "3v0ehxhX5pEc"
      },
      "outputs": [],
      "source": [
        "iris = datasets.load_iris()\n",
        "X = iris.data\n",
        "y = iris.target"
      ]
    },
    {
      "cell_type": "markdown",
      "source": [
        "Αλγόριθμος που θα χρησιμοποιήσουμε"
      ],
      "metadata": {
        "id": "Q-xAHediGiu0"
      }
    },
    {
      "cell_type": "code",
      "source": [
        "from sklearn.tree import DecisionTreeClassifier\n",
        "\n",
        "model = DecisionTreeClassifier()"
      ],
      "metadata": {
        "id": "ksyeriKe7X01"
      },
      "execution_count": null,
      "outputs": []
    },
    {
      "cell_type": "markdown",
      "source": [
        "Αξιολόγηση με σύνολο ελέγχου."
      ],
      "metadata": {
        "id": "63GYu52j7EWs"
      }
    },
    {
      "cell_type": "code",
      "source": [
        "X_train, X_test, y_train, y_test = train_test_split(X, y, random_state=0, test_size=0.3, shuffle=True)\n",
        "\n",
        "model.fit(X_train, y_train)\n",
        "y_pred = model.predict(X_test)"
      ],
      "metadata": {
        "id": "mQV1nDBh555l"
      },
      "execution_count": null,
      "outputs": []
    },
    {
      "cell_type": "markdown",
      "source": [
        "Υπολογισμός πίνακα σύγχυσης"
      ],
      "metadata": {
        "id": "MqLYxz-4GuNX"
      }
    },
    {
      "cell_type": "code",
      "source": [
        "from sklearn.metrics import confusion_matrix\n",
        "import matplotlib.pyplot as plt\n",
        "import seaborn\n",
        "\n",
        "cm = confusion_matrix(y_test, y_pred)\n",
        "print(cm)\n",
        "\n",
        "plt.figure(figsize=(6, 5),\n",
        "           dpi = 100)\n",
        "seaborn.heatmap(cm, xticklabels=iris.target_names, yticklabels=iris.target_names, cmap=plt.cm.Blues, annot=True)\n",
        "plt.title(\"Πίνακας σύγχυσης\")\n",
        "plt.yticks(rotation=0)\n",
        "plt.ylabel('Πραγματική τιμή')\n",
        "plt.xlabel('Πρόβλεψη')\n",
        "\n",
        "plt.show()"
      ],
      "metadata": {
        "colab": {
          "base_uri": "https://localhost:8080/",
          "height": 540
        },
        "id": "UeyObhOMGwNF",
        "outputId": "7dcb853f-bda7-4bff-f326-e49455a4ca38"
      },
      "execution_count": null,
      "outputs": [
        {
          "output_type": "stream",
          "name": "stdout",
          "text": [
            "[[16  0  0]\n",
            " [ 0 17  1]\n",
            " [ 0  0 11]]\n"
          ]
        },
        {
          "output_type": "display_data",
          "data": {
            "text/plain": [
              "<Figure size 600x500 with 2 Axes>"
            ],
            "image/png": "[encoded data removed]"
          },
          "metadata": {}
        }
      ]
    },
    {
      "cell_type": "markdown",
      "source": [
        "Υπολογισμός μετρικών"
      ],
      "metadata": {
        "id": "FMXPSUvTImgW"
      }
    },
    {
      "cell_type": "code",
      "source": [
        "from sklearn.metrics import classification_report\n",
        "\n",
        "print(classification_report(y_test, y_pred, target_names=iris.target_names, digits=3))"
      ],
      "metadata": {
        "colab": {
          "base_uri": "https://localhost:8080/"
        },
        "id": "QjWfETzdK5y_",
        "outputId": "01504dfe-cfcd-4bd9-f106-626a521885c4"
      },
      "execution_count": null,
      "outputs": [
        {
          "output_type": "stream",
          "name": "stdout",
          "text": [
            "              precision    recall  f1-score   support\n",
            "\n",
            "      setosa      1.000     1.000     1.000        16\n",
            "  versicolor      1.000     0.944     0.971        18\n",
            "   virginica      0.917     1.000     0.957        11\n",
            "\n",
            "    accuracy                          0.978        45\n",
            "   macro avg      0.972     0.981     0.976        45\n",
            "weighted avg      0.980     0.978     0.978        45\n",
            "\n"
          ]
        }
      ]
    },
    {
      "cell_type": "code",
      "source": [
        "from sklearn.metrics import accuracy_score, f1_score, precision_score, recall_score, log_loss\n",
        "\n",
        "print(\"Precision: {:.3f}\".format(precision_score(y_test,y_pred,average='macro')))\n",
        "print(\"Recall: {:.3f}\".format(recall_score(y_test,y_pred,average='macro')))\n",
        "print(\"F1-Score: {:.3f}\".format(f1_score(y_test,y_pred,average='macro')))\n",
        "print(\"Accuracy: {:.3f}\".format(accuracy_score(y_test,y_pred)))"
      ],
      "metadata": {
        "colab": {
          "base_uri": "https://localhost:8080/"
        },
        "id": "8IiVSbeMImn9",
        "outputId": "07e68353-39ab-4834-b236-8975fc28cd7a"
      },
      "execution_count": null,
      "outputs": [
        {
          "output_type": "stream",
          "name": "stdout",
          "text": [
            "Precision: 0.972\n",
            "Recall: 0.981\n",
            "F1-Score: 0.976\n",
            "Accuracy: 0.978\n"
          ]
        }
      ]
    },
    {
      "cell_type": "code",
      "source": [
        "print(\"   Precision Macro: {:.3f}\".format(precision_score(y_test,y_pred,average='macro')))\n",
        "print(\"Precision Weighted: {:.3f}\".format(precision_score(y_test,y_pred,average='weighted')))\n",
        "print()\n",
        "print(\"   Recall Macro: {:.3f}\".format(recall_score(y_test,y_pred,average='macro')))\n",
        "print(\"Recall Weighted: {:.3f}\".format(recall_score(y_test,y_pred,average='weighted')))\n",
        "print()\n",
        "print(\"   F1-Score Macro: {:.3f}\".format(f1_score(y_test,y_pred,average='macro')))\n",
        "print(\"F1-Score Weighted: {:.3f}\".format(f1_score(y_test,y_pred,average='weighted')))"
      ],
      "metadata": {
        "colab": {
          "base_uri": "https://localhost:8080/"
        },
        "id": "Dz7jPQZlOiiy",
        "outputId": "247f4a08-24ab-4a6d-c7e1-7b8fbdbe13a7"
      },
      "execution_count": null,
      "outputs": [
        {
          "output_type": "stream",
          "name": "stdout",
          "text": [
            "   Precision Macro: 0.972\n",
            "Precision Weighted: 0.980\n",
            "\n",
            "   Recall Macro: 0.981\n",
            "Recall Weighted: 0.978\n",
            "\n",
            "   F1-Score Macro: 0.976\n",
            "F1-Score Weighted: 0.978\n"
          ]
        }
      ]
    },
    {
      "cell_type": "markdown",
      "source": [
        "# Διαδικασίες αξιολόγησης #"
      ],
      "metadata": {
        "id": "I1s6EzL6fyBI"
      }
    },
    {
      "cell_type": "markdown",
      "source": [
        "## Χρήση συνόλου επικύρωσης ##"
      ],
      "metadata": {
        "id": "QWu7of5EhLGc"
      }
    },
    {
      "cell_type": "markdown",
      "source": [
        "Δεδομένα που θα χρησιμοποιήσουμε"
      ],
      "metadata": {
        "id": "X8bGL6MFhXwy"
      }
    },
    {
      "cell_type": "code",
      "source": [
        "iris = datasets.load_iris()\n",
        "X = iris.data\n",
        "y = iris.target"
      ],
      "metadata": {
        "id": "oMzWtcdRfyvw"
      },
      "execution_count": null,
      "outputs": []
    },
    {
      "cell_type": "markdown",
      "source": [
        "Διαχωρισμός σε 60%/20%/20%"
      ],
      "metadata": {
        "id": "3clfjM9YhgAO"
      }
    },
    {
      "cell_type": "code",
      "source": [
        "X_train, X_test, y_train, y_test = train_test_split(X, y, test_size=0.2, random_state=1)\n",
        "X_train, X_val, y_train, y_val  = train_test_split(X_train, y_train, test_size=0.25, random_state=1)\n",
        "print('Train size: ', X_train.shape[0])\n",
        "print('Validation size: ', X_val.shape[0])\n",
        "print('Test size: ', X_test.shape[0])"
      ],
      "metadata": {
        "colab": {
          "base_uri": "https://localhost:8080/"
        },
        "id": "xu9ljcIxhgH9",
        "outputId": "6d389353-3e81-400c-b5a7-0accf1e15056"
      },
      "execution_count": null,
      "outputs": [
        {
          "output_type": "stream",
          "name": "stdout",
          "text": [
            "Train size:  90\n",
            "Validation size:  30\n",
            "Test size:  30\n"
          ]
        }
      ]
    },
    {
      "cell_type": "markdown",
      "source": [
        "Εύρεση του βέλτιστου βάθους δένδρου απόφασης"
      ],
      "metadata": {
        "id": "-XMPXHY6iIZT"
      }
    },
    {
      "cell_type": "code",
      "source": [
        "from sklearn.tree import DecisionTreeClassifier\n",
        "from sklearn.metrics import accuracy_score\n",
        "\n",
        "for depth in range(1,11):\n",
        "  model = DecisionTreeClassifier(max_depth=depth, random_state=6)\n",
        "  model.fit(X_train, y_train)\n",
        "  y_pred = model.predict(X_val)\n",
        "  print(\"depth: {:2d}, accuracy: {:.2f}\".format(depth, accuracy_score(y_pred, y_val)))"
      ],
      "metadata": {
        "colab": {
          "base_uri": "https://localhost:8080/"
        },
        "id": "0xjsaPcpiKv1",
        "outputId": "099a77ae-30fe-45cb-8ae1-34f7d2d4e99c"
      },
      "execution_count": null,
      "outputs": [
        {
          "output_type": "stream",
          "name": "stdout",
          "text": [
            "depth:  1, accuracy: 0.67\n",
            "depth:  2, accuracy: 0.97\n",
            "depth:  3, accuracy: 1.00\n",
            "depth:  4, accuracy: 0.97\n",
            "depth:  5, accuracy: 0.97\n",
            "depth:  6, accuracy: 0.97\n",
            "depth:  7, accuracy: 0.97\n",
            "depth:  8, accuracy: 0.97\n",
            "depth:  9, accuracy: 0.97\n",
            "depth: 10, accuracy: 0.97\n"
          ]
        }
      ]
    },
    {
      "cell_type": "markdown",
      "source": [
        "Εκτίμηση απόδοσης μοντέλου με βέλτιστο βάθος σε άγνωστα δεδομένα"
      ],
      "metadata": {
        "id": "CF3rR9nTjfzZ"
      }
    },
    {
      "cell_type": "code",
      "source": [
        "model = DecisionTreeClassifier(max_depth=3, random_state = 6)\n",
        "model.fit(X_train, y_train)\n",
        "y_pred = model.predict(X_test)\n",
        "print(\"accuracy: {:.2f}\".format(accuracy_score(y_pred, y_test)))"
      ],
      "metadata": {
        "colab": {
          "base_uri": "https://localhost:8080/"
        },
        "id": "vBIHOCDDjjmQ",
        "outputId": "9a2c0dbe-0bac-4396-ed4e-819d39a3b787"
      },
      "execution_count": null,
      "outputs": [
        {
          "output_type": "stream",
          "name": "stdout",
          "text": [
            "accuracy: 0.97\n"
          ]
        }
      ]
    },
    {
      "cell_type": "markdown",
      "source": [
        "Εκτίμηση απόδοσης μοντέλου με βέλτιστο βάθος σε άγνωστα δεδομένα έπειτα από εκπαίδευση και στο σύνολο επικύρωσης"
      ],
      "metadata": {
        "id": "8Zj_Z59Qk4Pd"
      }
    },
    {
      "cell_type": "code",
      "source": [
        "import numpy as np\n",
        "\n",
        "model = DecisionTreeClassifier(max_depth=3, random_state = 6)\n",
        "model.fit(np.concatenate((X_train, X_val)), np.concatenate((y_train, y_val)))\n",
        "y_pred = model.predict(X_test)\n",
        "print(\"accuracy: {:.2f}\".format(accuracy_score(y_pred, y_test)))"
      ],
      "metadata": {
        "colab": {
          "base_uri": "https://localhost:8080/"
        },
        "id": "QgDdzWB7lA14",
        "outputId": "1386101c-abf2-4cdb-9b20-ddb2ec58b493"
      },
      "execution_count": null,
      "outputs": [
        {
          "output_type": "stream",
          "name": "stdout",
          "text": [
            "accuracy: 0.97\n"
          ]
        }
      ]
    },
    {
      "cell_type": "markdown",
      "source": [
        "Διαστρωμάτωση"
      ],
      "metadata": {
        "id": "lzM8N24SmFsL"
      }
    },
    {
      "cell_type": "code",
      "source": [
        "print(\"Χωρίς διαστρωμάτωση\")\n",
        "print(np.unique(y,return_counts=True)[1])\n",
        "X_train, X_test, y_train, y_test = train_test_split(X, y, test_size=0.2, random_state=1)\n",
        "X_train, X_val, y_train, y_val  = train_test_split(X_train, y_train, test_size=0.25, random_state=1)\n",
        "print('Train size: ', X_train.shape[0])\n",
        "print(np.unique(y_train,return_counts=True)[1])\n",
        "print('Validation size: ', X_val.shape[0])\n",
        "print(np.unique(y_val,return_counts=True)[1])\n",
        "print('Test size: ', X_test.shape[0])\n",
        "print(np.unique(y_test,return_counts=True)[1])\n",
        "\n",
        "print(\"\\nΜε διαστρωμάτωση\")\n",
        "print(np.unique(y,return_counts=True)[1])\n",
        "X_train, X_test, y_train, y_test = train_test_split(X, y, test_size=0.2, stratify=y, random_state=1)\n",
        "X_train, X_val, y_train, y_val  = train_test_split(X_train, y_train, stratify=y_train, test_size=0.25, random_state=1)\n",
        "print('Train size: ', X_train.shape[0])\n",
        "print(np.unique(y_train,return_counts=True)[1])\n",
        "print('Validation size: ', X_val.shape[0])\n",
        "print(np.unique(y_val,return_counts=True)[1])\n",
        "print('Test size: ', X_test.shape[0])\n",
        "print(np.unique(y_test,return_counts=True)[1])"
      ],
      "metadata": {
        "colab": {
          "base_uri": "https://localhost:8080/"
        },
        "id": "FhuAMLsjmLA7",
        "outputId": "e7ec101a-8b1e-42bc-ff91-afac8c789b69"
      },
      "execution_count": null,
      "outputs": [
        {
          "output_type": "stream",
          "name": "stdout",
          "text": [
            "Χωρίς διαστρωμάτωση\n",
            "[50 50 50]\n",
            "Train size:  90\n",
            "[30 27 33]\n",
            "Validation size:  30\n",
            "[ 9 10 11]\n",
            "Test size:  30\n",
            "[11 13  6]\n",
            "\n",
            "Με διαστρωμάτωση\n",
            "[50 50 50]\n",
            "Train size:  90\n",
            "[30 30 30]\n",
            "Validation size:  30\n",
            "[10 10 10]\n",
            "Test size:  30\n",
            "[10 10 10]\n"
          ]
        }
      ]
    },
    {
      "cell_type": "markdown",
      "source": [
        "## Επαναλαμβανόμενη κράτηση ##"
      ],
      "metadata": {
        "id": "CceItF-z-FlT"
      }
    },
    {
      "cell_type": "code",
      "source": [
        "model = DecisionTreeClassifier(max_depth=3, random_state = 6)\n",
        "\n",
        "iterations = 10\n",
        "accuracies = []\n",
        "for i in range(iterations):\n",
        "  X_train, X_test, y_train, y_test = train_test_split(X, y, test_size=0.2, random_state=i)\n",
        "  model.fit(X_train, y_train)\n",
        "  pred = model.predict(X_test)\n",
        "  accuracies.append(accuracy_score(y_test, pred))\n",
        "\n",
        "print(\"Accuracies: \" + str(accuracies))\n",
        "avg = np.average(accuracies)\n",
        "std = np.std(accuracies)\n",
        "print(\"Average: {:.2f}\\u00B1{:.2f}\".format(avg, std))"
      ],
      "metadata": {
        "colab": {
          "base_uri": "https://localhost:8080/"
        },
        "id": "qqXrO2aE-LOc",
        "outputId": "a621ab7c-5054-408f-9b28-eefbb9a278d7"
      },
      "execution_count": null,
      "outputs": [
        {
          "output_type": "stream",
          "name": "stdout",
          "text": [
            "Accuracies: [0.9666666666666667, 0.9666666666666667, 0.9666666666666667, 0.9666666666666667, 0.9666666666666667, 0.9333333333333333, 0.9666666666666667, 0.9, 0.9, 1.0]\n",
            "Average: 0.95±0.03\n"
          ]
        }
      ]
    },
    {
      "cell_type": "markdown",
      "source": [
        "## Σταυρωτή επικύρωση ##"
      ],
      "metadata": {
        "id": "e-L7VFHt69Vp"
      }
    },
    {
      "cell_type": "markdown",
      "source": [
        "Δεδομένα που θα χρησιμοποιήσουμε"
      ],
      "metadata": {
        "id": "7ISLVyp37lbq"
      }
    },
    {
      "cell_type": "code",
      "source": [
        "iris = datasets.load_iris()\n",
        "X = iris.data\n",
        "y = iris.target"
      ],
      "metadata": {
        "id": "AySrlmhQ7llp"
      },
      "execution_count": null,
      "outputs": []
    },
    {
      "cell_type": "markdown",
      "source": [
        "Σταυρωτή επικύρωση"
      ],
      "metadata": {
        "id": "5qkkO05G7she"
      }
    },
    {
      "cell_type": "code",
      "source": [
        "from sklearn.model_selection import KFold\n",
        "\n",
        "kf = KFold(n_splits=10)\n",
        "accuracies = []\n",
        "for train_index, test_index in kf.split(X):\n",
        "  X_train, X_test = X[train_index], X[test_index]\n",
        "  y_train, y_test = y[train_index], y[test_index]\n",
        "  model = DecisionTreeClassifier(max_depth=3, random_state=6)\n",
        "  model.fit(X_train, y_train)\n",
        "  pred = model.predict(X_test)\n",
        "  accuracies.append(accuracy_score(y_test, pred))\n",
        "\n",
        "print(\"Accuracies: \" + str(accuracies))\n",
        "avg = np.average(accuracies)\n",
        "std = np.std(accuracies)\n",
        "print(\"Average: {:.2f}\\u00B1{:.2f}\".format(avg, std))"
      ],
      "metadata": {
        "colab": {
          "base_uri": "https://localhost:8080/"
        },
        "id": "Io07u2Kd7uFV",
        "outputId": "5f02fb06-b6ab-4db6-dd34-99664dae0d8e"
      },
      "execution_count": null,
      "outputs": [
        {
          "output_type": "stream",
          "name": "stdout",
          "text": [
            "Accuracies: [1.0, 1.0, 1.0, 1.0, 0.9333333333333333, 0.8, 1.0, 0.8666666666666667, 0.8, 1.0]\n",
            "Average: 0.94±0.08\n"
          ]
        }
      ]
    },
    {
      "cell_type": "code",
      "source": [
        "from sklearn.model_selection import cross_val_score\n",
        "\n",
        "model = DecisionTreeClassifier(max_depth=3, random_state=6)\n",
        "kf = KFold(n_splits=10)\n",
        "scores = cross_val_score(model, X, y, cv=kf, scoring='accuracy')\n",
        "print(\"Accuracies: \" + str(scores))\n",
        "print(\"Average: {:.2f}\\u00B1{:.2f}\".format(scores.mean(), scores.std()))"
      ],
      "metadata": {
        "colab": {
          "base_uri": "https://localhost:8080/"
        },
        "id": "BPCx_YTop-MO",
        "outputId": "54fb4613-247c-4e85-d01f-6f9b8c14efe8"
      },
      "execution_count": null,
      "outputs": [
        {
          "output_type": "stream",
          "name": "stdout",
          "text": [
            "Accuracies: [1.         1.         1.         1.         0.93333333 0.8\n",
            " 1.         0.86666667 0.8        1.        ]\n",
            "Average: 0.94±0.08\n"
          ]
        }
      ]
    },
    {
      "cell_type": "markdown",
      "source": [
        "Με διαστρωμάτωση"
      ],
      "metadata": {
        "id": "BFy65JAG9Vjo"
      }
    },
    {
      "cell_type": "code",
      "source": [
        "from sklearn.model_selection import StratifiedKFold\n",
        "\n",
        "model = DecisionTreeClassifier(max_depth=3, random_state=6)\n",
        "skf = StratifiedKFold(n_splits=10)\n",
        "scores = cross_val_score(model, X, y, cv=skf, scoring='accuracy')\n",
        "print(\"Accuracies: \" + str(scores))\n",
        "print(\"Average: {:.2f}\\u00B1{:.2f}\".format(scores.mean(), scores.std()))"
      ],
      "metadata": {
        "colab": {
          "base_uri": "https://localhost:8080/"
        },
        "id": "ESpoAySZ9Xm2",
        "outputId": "12baec16-91b7-42df-fed9-6df016a40223"
      },
      "execution_count": null,
      "outputs": [
        {
          "output_type": "stream",
          "name": "stdout",
          "text": [
            "Accuracies: [1.         0.93333333 1.         0.93333333 0.93333333 0.93333333\n",
            " 0.93333333 0.93333333 1.         1.        ]\n",
            "Average: 0.96±0.03\n"
          ]
        }
      ]
    },
    {
      "cell_type": "markdown",
      "source": [
        "Επιλογή μοντέλου"
      ],
      "metadata": {
        "id": "oEkz_xmG_aE_"
      }
    },
    {
      "cell_type": "code",
      "source": [
        "from sklearn.tree import DecisionTreeClassifier\n",
        "from sklearn.metrics import accuracy_score\n",
        "\n",
        "for depth in range(1,11):\n",
        "  skf = StratifiedKFold(n_splits=10)\n",
        "  model = DecisionTreeClassifier(max_depth=depth, random_state=6)\n",
        "  accuracies = []\n",
        "  scores = cross_val_score(model, X, y, cv=skf, scoring='accuracy')\n",
        "  print(\"depth: {:2d}, accuracy: {:.2f}\\u00B1{:.2f}\".format(depth, scores.mean(), scores.std()))"
      ],
      "metadata": {
        "colab": {
          "base_uri": "https://localhost:8080/"
        },
        "id": "SgRxOxKe_aQV",
        "outputId": "d0ec665b-a24e-4caa-f9b5-2d7f91676eeb"
      },
      "execution_count": null,
      "outputs": [
        {
          "output_type": "stream",
          "name": "stdout",
          "text": [
            "depth:  1, accuracy: 0.67±0.00\n",
            "depth:  2, accuracy: 0.95±0.05\n",
            "depth:  3, accuracy: 0.96±0.03\n",
            "depth:  4, accuracy: 0.95±0.04\n",
            "depth:  5, accuracy: 0.95±0.04\n",
            "depth:  6, accuracy: 0.95±0.04\n",
            "depth:  7, accuracy: 0.95±0.04\n",
            "depth:  8, accuracy: 0.95±0.04\n",
            "depth:  9, accuracy: 0.95±0.04\n",
            "depth: 10, accuracy: 0.95±0.04\n"
          ]
        }
      ]
    },
    {
      "cell_type": "code",
      "source": [
        "from sklearn.model_selection import GridSearchCV\n",
        "\n",
        "model = DecisionTreeClassifier(random_state=6)\n",
        "params = {\"max_depth\": range(1,11)}\n",
        "skf = StratifiedKFold(n_splits=10)\n",
        "\n",
        "gs = GridSearchCV(estimator=model, param_grid=params, scoring=\"accuracy\", cv=skf)\n",
        "gs.fit(X, y)\n",
        "print(gs.best_params_)"
      ],
      "metadata": {
        "colab": {
          "base_uri": "https://localhost:8080/"
        },
        "id": "8RG7l4xPGnSh",
        "outputId": "3e809134-05fe-43b8-bd50-219feccf9bb2"
      },
      "execution_count": null,
      "outputs": [
        {
          "output_type": "stream",
          "name": "stdout",
          "text": [
            "{'max_depth': 3}\n"
          ]
        }
      ]
    },
    {
      "cell_type": "code",
      "source": [
        "from sklearn.model_selection import GridSearchCV\n",
        "\n",
        "model = DecisionTreeClassifier(random_state=6)\n",
        "params = {\"max_depth\": range(1,11), \"min_samples_leaf\": range(1,11)}\n",
        "skf = StratifiedKFold(n_splits=10)\n",
        "\n",
        "gs = GridSearchCV(estimator=model, param_grid=params, scoring=\"accuracy\", cv=skf)\n",
        "gs.fit(X, y)\n",
        "print(gs.best_params_)"
      ],
      "metadata": {
        "colab": {
          "base_uri": "https://localhost:8080/"
        },
        "id": "XSxELLv7G0bv",
        "outputId": "ddd3b347-c733-4c5b-e2fd-8895e2a9c7fd"
      },
      "execution_count": null,
      "outputs": [
        {
          "output_type": "stream",
          "name": "stdout",
          "text": [
            "{'max_depth': 3, 'min_samples_leaf': 3}\n"
          ]
        }
      ]
    },
    {
      "cell_type": "markdown",
      "source": [
        "Επιλογή και εκτίμηση"
      ],
      "metadata": {
        "id": "K51qOUoOHImB"
      }
    },
    {
      "cell_type": "code",
      "source": [
        "from sklearn.model_selection import GridSearchCV, cross_val_score\n",
        "\n",
        "model = DecisionTreeClassifier(random_state=6)\n",
        "params = {\"max_depth\": range(1,11)}\n",
        "\n",
        "inner_cv = StratifiedKFold(n_splits=9, shuffle=True, random_state=6)\n",
        "outer_cv = StratifiedKFold(n_splits=10, shuffle=True, random_state=6)\n",
        "accuracies = []\n",
        "max_depths = []\n",
        "for train_index, test_index in outer_cv.split(X, y):\n",
        "  X_train, X_test = X[train_index], X[test_index]\n",
        "  y_train, y_test = y[train_index], y[test_index]\n",
        "  gs = GridSearchCV(estimator=model, param_grid=params, scoring=\"accuracy\", cv=inner_cv)\n",
        "  gs.fit(X_train, y_train)\n",
        "  max_depths.append(gs.best_params_['max_depth'])\n",
        "  pred = gs.predict(X_test)\n",
        "  accuracies.append(accuracy_score(y_test,pred))\n",
        "\n",
        "print(\"Max depths: \" + str(max_depths))\n",
        "print(\"Accuracies: \" + str(accuracies))\n",
        "avg = np.average(accuracies)\n",
        "std = np.std(accuracies)\n",
        "print(\"Average: {:.2f}\\u00B1{:.2f}\".format(avg, std))"
      ],
      "metadata": {
        "colab": {
          "base_uri": "https://localhost:8080/"
        },
        "id": "EhWYUX7qHMAr",
        "outputId": "f45a7830-4cb2-4909-95b1-bce40ffd8470"
      },
      "execution_count": null,
      "outputs": [
        {
          "output_type": "stream",
          "name": "stdout",
          "text": [
            "Max depths: [4, 3, 6, 2, 5, 3, 6, 5, 6, 6]\n",
            "Accuracies: [1.0, 0.8, 1.0, 0.9333333333333333, 0.9333333333333333, 0.9333333333333333, 0.9333333333333333, 0.9333333333333333, 1.0, 1.0]\n",
            "Average: 0.95±0.06\n"
          ]
        }
      ]
    },
    {
      "cell_type": "code",
      "source": [
        "from sklearn.model_selection import GridSearchCV, cross_val_score\n",
        "\n",
        "model = DecisionTreeClassifier(random_state=6)\n",
        "params = {\"max_depth\": range(1,11)}\n",
        "\n",
        "inner_cv = StratifiedKFold(n_splits=9, shuffle=True, random_state=6)\n",
        "gs = GridSearchCV(estimator=model, param_grid=params, cv=inner_cv, scoring='accuracy')\n",
        "\n",
        "outer_cv = StratifiedKFold(n_splits=10, shuffle=True, random_state=6)\n",
        "scores = cross_val_score(gs, X, y, cv=outer_cv, scoring='accuracy')\n",
        "\n",
        "print(\"Accuracies: \" + str(scores))\n",
        "print(\"Average: {:.2f}\\u00B1{:.2f}\".format(scores.mean(), scores.std()))"
      ],
      "metadata": {
        "colab": {
          "base_uri": "https://localhost:8080/"
        },
        "id": "Op_uhDSwstXt",
        "outputId": "bb835916-0c5c-459d-a01e-12669a2260f4"
      },
      "execution_count": null,
      "outputs": [
        {
          "output_type": "stream",
          "name": "stdout",
          "text": [
            "Accuracies: [1.         0.8        1.         0.93333333 0.93333333 0.93333333\n",
            " 0.93333333 0.93333333 1.         1.        ]\n",
            "Average: 0.95±0.06\n"
          ]
        }
      ]
    },
    {
      "cell_type": "markdown",
      "source": [
        "Επαναλαμβανόμενη"
      ],
      "metadata": {
        "id": "7YKUIp5rKqW-"
      }
    },
    {
      "cell_type": "code",
      "source": [
        "from sklearn.model_selection import RepeatedStratifiedKFold\n",
        "\n",
        "model = DecisionTreeClassifier(random_state=6)\n",
        "params = {\"max_depth\": range(1,11)}\n",
        "\n",
        "iterations = 10\n",
        "accuracies = []\n",
        "outer_cv = RepeatedStratifiedKFold(n_splits=10, n_repeats=10, random_state=1)\n",
        "for train_index, test_index in outer_cv.split(X, y):\n",
        "  X_train, X_test = X[train_index], X[test_index]\n",
        "  y_train, y_test = y[train_index], y[test_index]\n",
        "  inner_cv = StratifiedKFold(n_splits=9, shuffle=True, random_state=1)\n",
        "  gs = GridSearchCV(estimator=model, param_grid=params, cv=inner_cv)\n",
        "  gs.fit(X_train, y_train)\n",
        "  pred = gs.predict(X_test)\n",
        "  accuracies.append(accuracy_score(y_test,pred))\n",
        "\n",
        "print(\"Number of accuracies: {:d}\".format(len(accuracies)))\n",
        "avg = np.average(accuracies)\n",
        "std = np.std(accuracies)\n",
        "print(\"Average: {:.2f}\\u00B1{:.2f}\".format(avg, std))"
      ],
      "metadata": {
        "colab": {
          "base_uri": "https://localhost:8080/"
        },
        "id": "XiozyDq8Kp50",
        "outputId": "e77d0440-bc88-47b1-925d-598d47124e0f"
      },
      "execution_count": null,
      "outputs": [
        {
          "output_type": "stream",
          "name": "stdout",
          "text": [
            "Number of accuracies: 100\n",
            "Average: 0.94±0.06\n"
          ]
        }
      ]
    },
    {
      "cell_type": "markdown",
      "source": [
        "## Περιορισμένο πλήθος δεδομένων ##"
      ],
      "metadata": {
        "id": "mUZNAIV2LmVN"
      }
    },
    {
      "cell_type": "markdown",
      "source": [
        "Άφησε ένα εκτός"
      ],
      "metadata": {
        "id": "g2CH3HzKLrCM"
      }
    },
    {
      "cell_type": "code",
      "source": [
        "from sklearn.model_selection import LeaveOneOut\n",
        "\n",
        "model = DecisionTreeClassifier(random_state=6)\n",
        "\n",
        "loo = LeaveOneOut()\n",
        "loo.get_n_splits(X)\n",
        "\n",
        "accuracies = []\n",
        "for train_index, test_index in loo.split(X):\n",
        "  X_train, X_test = X[train_index], X[test_index]\n",
        "  y_train, y_test = y[train_index], y[test_index]\n",
        "  model.fit(X_train, y_train)\n",
        "  y_pred = model.predict(X_test)\n",
        "  accuracies.append(accuracy_score(y_test, y_pred))\n",
        "\n",
        "print(\"Accuracies: \" + str(accuracies))\n",
        "avg = np.average(accuracies)\n",
        "std = np.std(accuracies)\n",
        "print(\"Average: {:.2f}\\u00B1{:.2f}\".format(avg, std))"
      ],
      "metadata": {
        "colab": {
          "base_uri": "https://localhost:8080/"
        },
        "id": "fUu4qb-rLrNY",
        "outputId": "a29804c1-8737-483d-b60d-b67c8e064b95"
      },
      "execution_count": null,
      "outputs": [
        {
          "output_type": "stream",
          "name": "stdout",
          "text": [
            "Accuracies: [1.0, 1.0, 1.0, 1.0, 1.0, 1.0, 1.0, 1.0, 1.0, 1.0, 1.0, 1.0, 1.0, 1.0, 1.0, 1.0, 1.0, 1.0, 1.0, 1.0, 1.0, 1.0, 1.0, 1.0, 1.0, 1.0, 1.0, 1.0, 1.0, 1.0, 1.0, 1.0, 1.0, 1.0, 1.0, 1.0, 1.0, 1.0, 1.0, 1.0, 1.0, 1.0, 1.0, 1.0, 1.0, 1.0, 1.0, 1.0, 1.0, 1.0, 1.0, 1.0, 1.0, 1.0, 1.0, 1.0, 1.0, 1.0, 1.0, 1.0, 1.0, 1.0, 1.0, 1.0, 1.0, 1.0, 1.0, 1.0, 1.0, 1.0, 0.0, 1.0, 1.0, 1.0, 1.0, 1.0, 1.0, 0.0, 1.0, 1.0, 1.0, 1.0, 1.0, 0.0, 1.0, 1.0, 1.0, 1.0, 1.0, 1.0, 1.0, 1.0, 1.0, 1.0, 1.0, 1.0, 1.0, 1.0, 1.0, 1.0, 1.0, 1.0, 1.0, 1.0, 1.0, 1.0, 0.0, 1.0, 1.0, 1.0, 1.0, 1.0, 1.0, 1.0, 1.0, 1.0, 1.0, 1.0, 1.0, 0.0, 1.0, 1.0, 1.0, 1.0, 1.0, 1.0, 1.0, 1.0, 1.0, 0.0, 1.0, 1.0, 1.0, 1.0, 1.0, 1.0, 1.0, 1.0, 0.0, 1.0, 1.0, 1.0, 1.0, 1.0, 1.0, 1.0, 1.0, 1.0, 1.0, 1.0]\n",
            "Average: 0.95±0.21\n"
          ]
        }
      ]
    },
    {
      "cell_type": "markdown",
      "source": [
        "Με ίδιες δυνάμεις (bootstrap)"
      ],
      "metadata": {
        "id": "_msulSWCPBRJ"
      }
    },
    {
      "cell_type": "code",
      "source": [
        "m = 100\n",
        "p = (1-1/m) ** m\n",
        "print(\"{:.3f}\".format(p))\n",
        "print(\"{:.3f}\".format(1/np.e))"
      ],
      "metadata": {
        "colab": {
          "base_uri": "https://localhost:8080/"
        },
        "id": "T7VG81uMlhH8",
        "outputId": "8374ab7f-ae7f-4649-b22b-8f14cb5fd8dd"
      },
      "execution_count": null,
      "outputs": [
        {
          "output_type": "stream",
          "name": "stdout",
          "text": [
            "0.366\n",
            "0.368\n"
          ]
        }
      ]
    },
    {
      "cell_type": "code",
      "source": [
        "from sklearn.utils import resample\n",
        "\n",
        "indexes = np.array([i for i in range(0,len(X))])\n",
        "sample = resample(indexes, replace = True, n_samples = len(indexes), random_state=1)\n",
        "set1 = set(indexes)\n",
        "set2 = set(sample)\n",
        "diff = set1 - set2\n",
        "comp = list(diff)\n",
        "\n",
        "X_train, y_train = X[sample], y[sample]\n",
        "X_test, y_test = X[comp], y[comp]\n",
        "\n",
        "model = DecisionTreeClassifier(max_depth=3)\n",
        "model.fit(X_train, y_train)\n",
        "accuracy_train = accuracy_score(y_train, model.predict(X_train))\n",
        "print(\"Accuracy train {:.3f}\".format(accuracy_train))\n",
        "accuracy_test = accuracy_score(y_test, model.predict(X_test))\n",
        "print(\"Accuracy test {:.3f}\".format(accuracy_test))\n",
        "print(\"Accuracy bootstrap {:.3f}\".format(0.632*accuracy_test+0.368*accuracy_train))"
      ],
      "metadata": {
        "colab": {
          "base_uri": "https://localhost:8080/"
        },
        "id": "cG6GaE_7PDJ3",
        "outputId": "9e7258a7-0bda-4320-b268-cd441ec63ea2"
      },
      "execution_count": null,
      "outputs": [
        {
          "output_type": "stream",
          "name": "stdout",
          "text": [
            "Accuracy train 0.993\n",
            "Accuracy test 0.947\n",
            "Accuracy bootstrap 0.964\n"
          ]
        }
      ]
    },
    {
      "cell_type": "markdown",
      "source": [
        "## Ομαδοποίηση ##"
      ],
      "metadata": {
        "id": "pWfBMXpcmx66"
      }
    },
    {
      "cell_type": "code",
      "source": [
        "from sklearn.model_selection import GroupKFold\n",
        "\n",
        "X = [0.1, 0.2, 2.2, 2.4, 2.3, 4.55, 5.8, 8.8, 9]\n",
        "y = [\"a\", \"b\", \"a\", \"b\", \"a\", \"b\", \"a\", \"b\", \"a\"]\n",
        "groups = [1, 1, 1, 2, 2, 2, 3, 3, 3]\n",
        "\n",
        "gkf = GroupKFold(n_splits=3)\n",
        "for train_index, test_index in gkf.split(X, y, groups=groups):\n",
        "  print(\"%s %s\" % (train_index, test_index))"
      ],
      "metadata": {
        "colab": {
          "base_uri": "https://localhost:8080/"
        },
        "id": "bkuRt0zqnvQC",
        "outputId": "59b9be51-7470-4d03-ff9e-8d37c624eab4"
      },
      "execution_count": null,
      "outputs": [
        {
          "output_type": "stream",
          "name": "stdout",
          "text": [
            "[0 1 2 3 4 5] [6 7 8]\n",
            "[0 1 2 6 7 8] [3 4 5]\n",
            "[3 4 5 6 7 8] [0 1 2]\n"
          ]
        }
      ]
    },
    {
      "cell_type": "code",
      "source": [
        "import sklearn\n",
        "print(sklearn.__version__)"
      ],
      "metadata": {
        "colab": {
          "base_uri": "https://localhost:8080/"
        },
        "id": "fVUA_M4bDDZb",
        "outputId": "47d74441-9bcb-4f4d-a4bb-d523874b9c0e"
      },
      "execution_count": null,
      "outputs": [
        {
          "output_type": "stream",
          "name": "stdout",
          "text": [
            "1.6.1\n"
          ]
        }
      ]
    }
  ]
}