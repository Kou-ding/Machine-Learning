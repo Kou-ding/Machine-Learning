{
  "cells": [
    {
      "cell_type": "markdown",
      "metadata": {
        "id": "yD2Ti813jkle"
      },
      "source": [
        "# Solving through the normal equation\n",
        "\n",
        "$ θ=(X^TX)^{−1}X^{T}y $"
      ]
    },
    {
      "cell_type": "markdown",
      "metadata": {
        "id": "HPNKAuptdOTm"
      },
      "source": [
        "## Dataset\n",
        "\n",
        "We are going to be working with the [California Housing](https://scikit-learn.org/stable/datasets/real_world.html#california-housing-dataset) Dataset."
      ]
    },
    {
      "cell_type": "code",
      "execution_count": 1,
      "metadata": {
        "colab": {
          "base_uri": "https://localhost:8080/"
        },
        "id": "LmVoSdfTd0wx",
        "outputId": "402d0b35-20a0-4a52-9047-7896a110d743"
      },
      "outputs": [
        {
          "name": "stdout",
          "output_type": "stream",
          "text": [
            "(20640, 8) (20640,)\n",
            "['MedInc', 'HouseAge', 'AveRooms', 'AveBedrms', 'Population', 'AveOccup', 'Latitude', 'Longitude']\n",
            "[[ 8.32520000e+00  4.10000000e+01  6.98412698e+00  1.02380952e+00\n",
            "   3.22000000e+02  2.55555556e+00  3.78800000e+01 -1.22230000e+02]\n",
            " [ 8.30140000e+00  2.10000000e+01  6.23813708e+00  9.71880492e-01\n",
            "   2.40100000e+03  2.10984183e+00  3.78600000e+01 -1.22220000e+02]\n",
            " [ 7.25740000e+00  5.20000000e+01  8.28813559e+00  1.07344633e+00\n",
            "   4.96000000e+02  2.80225989e+00  3.78500000e+01 -1.22240000e+02]\n",
            " [ 5.64310000e+00  5.20000000e+01  5.81735160e+00  1.07305936e+00\n",
            "   5.58000000e+02  2.54794521e+00  3.78500000e+01 -1.22250000e+02]\n",
            " [ 3.84620000e+00  5.20000000e+01  6.28185328e+00  1.08108108e+00\n",
            "   5.65000000e+02  2.18146718e+00  3.78500000e+01 -1.22250000e+02]]\n"
          ]
        }
      ],
      "source": [
        "from sklearn.datasets import fetch_california_housing\n",
        "housing = fetch_california_housing()\n",
        "print(housing.data.shape, housing.target.shape)\n",
        "print(housing.feature_names)\n",
        "print(housing.data[:5])"
      ]
    },
    {
      "cell_type": "markdown",
      "metadata": {
        "id": "3iuYG-5aoCej"
      },
      "source": [
        "## Through sklearn"
      ]
    },
    {
      "cell_type": "code",
      "execution_count": null,
      "metadata": {
        "colab": {
          "base_uri": "https://localhost:8080/"
        },
        "id": "tQUyDZP8jnGI",
        "outputId": "1b857f80-997a-41fc-ed49-697285370ec7"
      },
      "outputs": [
        {
          "name": "stdout",
          "output_type": "stream",
          "text": [
            "-36.94192020718441\n",
            "[ 4.36693293e-01  9.43577803e-03 -1.07322041e-01  6.45065694e-01\n",
            " -3.97638942e-06 -3.78654265e-03 -4.21314378e-01 -4.34513755e-01]\n"
          ]
        }
      ],
      "source": [
        "from sklearn.linear_model import LinearRegression\n",
        "\n",
        "lr = LinearRegression()\n",
        "lr.fit(housing.data, housing.target)\n",
        "print(lr.intercept_)\n",
        "print(lr.coef_)"
      ]
    },
    {
      "cell_type": "markdown",
      "metadata": {
        "id": "L6S7axRMoGNS"
      },
      "source": [
        "## Our implementation\n",
        "$ θ=(X^TX)^{−1}X^{T}y $"
      ]
    },
    {
      "cell_type": "code",
      "execution_count": null,
      "metadata": {
        "colab": {
          "base_uri": "https://localhost:8080/"
        },
        "id": "ysvyafSQoKkz",
        "outputId": "05c1ccd8-2be1-49a5-d64c-7f0867afeadb"
      },
      "outputs": [
        {
          "name": "stdout",
          "output_type": "stream",
          "text": [
            "[-3.69419202e+01  4.36693293e-01  9.43577803e-03 -1.07322041e-01\n",
            "  6.45065694e-01 -3.97638942e-06 -3.78654265e-03 -4.21314378e-01\n",
            " -4.34513755e-01]\n"
          ]
        }
      ],
      "source": [
        "import numpy as np\n",
        "# adding a virtual first column προσθήκη εικονικής πρώτης στήλης με τιμή 1 για την αποτέμνουσα\n",
        "data = np.concatenate((np.ones((housing.data.shape[0],1)), housing.data),axis=1)\n",
        "theta = np.linalg.inv((data.T).dot(data)).dot(data.T).dot(housing.target)\n",
        "print(theta)"
      ]
    },
    {
      "cell_type": "markdown",
      "metadata": {
        "id": "k7PI08eXySfz"
      },
      "source": [
        "## Με χρήση του ψευδοανάστροφου Moore-Penrose"
      ]
    },
    {
      "cell_type": "code",
      "execution_count": null,
      "metadata": {
        "colab": {
          "base_uri": "https://localhost:8080/"
        },
        "id": "-nZ4KpGHxud1",
        "outputId": "c9d29a12-c490-4315-c3f0-1abba2d08908"
      },
      "outputs": [
        {
          "name": "stdout",
          "output_type": "stream",
          "text": [
            "[-3.69419202e+01  4.36693293e-01  9.43577803e-03 -1.07322041e-01\n",
            "  6.45065694e-01 -3.97638942e-06 -3.78654265e-03 -4.21314378e-01\n",
            " -4.34513755e-01]\n"
          ]
        }
      ],
      "source": [
        "theta = np.linalg.pinv(data).dot(housing.target)\n",
        "print(theta)"
      ]
    },
    {
      "cell_type": "markdown",
      "metadata": {
        "id": "7HbwULAzrPAo"
      },
      "source": [
        "# Gradient Descent / Επικλινής κάθοδος"
      ]
    },
    {
      "cell_type": "markdown",
      "metadata": {
        "id": "ghoV4TRq_cwM"
      },
      "source": [
        "Θα δημιουργήσουμε τυχαία δεδομένα μίας μεταβλητής εισόδου, μέσω της υπόθεσης $4+3x_1$ με προσθήκη και τυχαίου θορύβου στην μεταβλητή εξόδου. Θα τα εμφανίσουμε με ένα scatter plot. Τέλος θα προσθέσουμε και μια εικονική μεταβλητή εισόδου $x_0$ με τιμή 1 σε όλα τα παραδείγματα για να χειριστούμε ενιαία την αποτέμνουσα και τις υπόλοιπες παραμέτρους."
      ]
    },
    {
      "cell_type": "code",
      "execution_count": null,
      "metadata": {
        "colab": {
          "base_uri": "https://localhost:8080/",
          "height": 430
        },
        "id": "te5rLAnSbuuZ",
        "outputId": "f173f70f-6edf-4de9-930d-68fcff3286d6"
      },
      "outputs": [
        {
          "data": {
            "image/png": "[encoded data removed]",
            "text/plain": [
              "<Figure size 640x480 with 1 Axes>"
            ]
          },
          "metadata": {},
          "output_type": "display_data"
        }
      ],
      "source": [
        "import matplotlib.pyplot as plt\n",
        "import numpy as np\n",
        "\n",
        "m = 100\n",
        "\n",
        "# rand: δισδιάστατος πίνακας m x 1 τυχαίων αριθμών στο [0..1]\n",
        "x1 = 2 * np.random.rand(m, 1)\n",
        "# randn: δισδιάστατος πίνακας m x 1 τυχαίων αριθμών κανονικής κατανομής\n",
        "y = 4 + 3 * x1 + np.random.randn(m, 1)\n",
        "\n",
        "plt.scatter(x=x1,y=y)\n",
        "\n",
        "X = np.concatenate((np.ones((m,1)), x1), axis=1)\n",
        "\n",
        "n = X.shape[1] - 1"
      ]
    },
    {
      "cell_type": "markdown",
      "metadata": {
        "id": "HGtTP-IUknrQ"
      },
      "source": [
        "Υπερ-παράμετροι"
      ]
    },
    {
      "cell_type": "code",
      "execution_count": null,
      "metadata": {
        "id": "HUKmeIae7E1Q"
      },
      "outputs": [],
      "source": [
        "num_iterations = 400 #40 χιλιάδες για να φανούν οι χρονικές διαφορές\n",
        "learning_rate = 0.009"
      ]
    },
    {
      "cell_type": "markdown",
      "metadata": {
        "id": "o-nC8_aJ6xua"
      },
      "source": [
        "## Without linear algebra"
      ]
    },
    {
      "cell_type": "markdown",
      "metadata": {
        "id": "snSBpI9n9ISL"
      },
      "source": [
        "Μια πρώτη υλοποίηση"
      ]
    },
    {
      "cell_type": "code",
      "execution_count": null,
      "metadata": {
        "colab": {
          "base_uri": "https://localhost:8080/"
        },
        "id": "3-eCX7mR6Wjm",
        "outputId": "b1ed0b22-c893-4fbd-da52-f030b3feefe8"
      },
      "outputs": [
        {
          "name": "stdout",
          "output_type": "stream",
          "text": [
            "[3.55443171 3.45021579]\n",
            "0.5754052663192811\n"
          ]
        }
      ],
      "source": [
        "theta = np.zeros(n+1)\n",
        "for _ in range(num_iterations):\n",
        "  theta_temp = theta.copy()\n",
        "  for j in range(n+1):\n",
        "    update = 0\n",
        "    for i in range(m):\n",
        "      update += (theta_temp.dot(X[i])-y[i][0])*X[i][j]\n",
        "    theta[j] = theta[j] - learning_rate*(1/m)*update\n",
        "print(theta)\n",
        "\n",
        "cost = 0\n",
        "for i in range(m):\n",
        "  cost += 0.5*(1/m)*(theta.dot(X[i])-y[i][0])**2\n",
        "print(cost)"
      ]
    },
    {
      "cell_type": "markdown",
      "metadata": {
        "id": "SBk9wJQh9K8F"
      },
      "source": [
        "Μια λίγο καλύτερη υλοποίηση"
      ]
    },
    {
      "cell_type": "code",
      "execution_count": null,
      "metadata": {
        "colab": {
          "base_uri": "https://localhost:8080/"
        },
        "id": "aXZvG7uA9Phw",
        "outputId": "8f953fa5-f4bd-45a0-ff26-65426ab64b44"
      },
      "outputs": [
        {
          "name": "stdout",
          "output_type": "stream",
          "text": [
            "[3.55443171 3.45021579]\n",
            "0.5754052663192811\n"
          ]
        }
      ],
      "source": [
        "theta = np.zeros(n+1)\n",
        "for _ in range(num_iterations):\n",
        "  theta_temp = theta.copy()\n",
        "  update = np.zeros(n+1)\n",
        "  for i in range(m):\n",
        "    error = (theta_temp.dot(X[i])-y[i][0])\n",
        "    for j in range(n+1):\n",
        "      update[j] += error*X[i][j]\n",
        "  for j in range(n+1):\n",
        "    theta[j] = theta[j] - learning_rate*(1/m)*update[j]\n",
        "print(theta)\n",
        "\n",
        "cost = 0\n",
        "for i in range(m):\n",
        "  cost += 0.5*(1/m)*((theta.dot(X[i])-y[i][0])**2)\n",
        "print(cost)"
      ]
    },
    {
      "cell_type": "markdown",
      "metadata": {
        "id": "UldYXLaC60my"
      },
      "source": [
        "## With linear Algebra"
      ]
    },
    {
      "cell_type": "markdown",
      "metadata": {
        "id": "umP0vacseFcZ"
      },
      "source": [
        "Υλοποίηση με γραμμική άλγεβρα"
      ]
    },
    {
      "cell_type": "code",
      "execution_count": null,
      "metadata": {
        "colab": {
          "base_uri": "https://localhost:8080/"
        },
        "id": "uMn_37G_eFzE",
        "outputId": "ecf7df80-cfc9-4744-9581-b1e7faa3ceab"
      },
      "outputs": [
        {
          "name": "stdout",
          "output_type": "stream",
          "text": [
            "[[3.55443171]\n",
            " [3.45021579]]\n",
            "0.575405266319281\n"
          ]
        }
      ],
      "source": [
        "theta = np.zeros((n+1,1))\n",
        "for _ in range(num_iterations):\n",
        "  theta = theta - learning_rate*(1/m)*(X.T @ (X @ theta - y))\n",
        "print(theta)\n",
        "\n",
        "cost = 0.5*(1/m)*np.sum((X @ theta - y)**2)\n",
        "print(cost)"
      ]
    },
    {
      "cell_type": "markdown",
      "metadata": {
        "id": "l8Fd5hx4kxGa"
      },
      "source": [
        "## Σύγκριση με κανονική εξίσωση"
      ]
    },
    {
      "cell_type": "code",
      "execution_count": null,
      "metadata": {
        "colab": {
          "base_uri": "https://localhost:8080/"
        },
        "id": "6bYwFWKVkxOL",
        "outputId": "4a6e4707-7329-4fc6-f643-97e73695a274"
      },
      "outputs": [
        {
          "name": "stdout",
          "output_type": "stream",
          "text": [
            "[[4.04765462]\n",
            " [3.02912936]]\n",
            "0.5447251693944533\n"
          ]
        }
      ],
      "source": [
        "theta_opt = np.linalg.inv((X.T).dot(X)).dot(X.T).dot(y)\n",
        "print(theta_opt)\n",
        "\n",
        "cost = 0.5*(1/m)*np.sum((X @ theta_opt - y)**2)\n",
        "print(cost)"
      ]
    },
    {
      "cell_type": "markdown",
      "metadata": {
        "id": "fo4j-MGARNl9"
      },
      "source": [
        "## Γραφική απεικόνιση της υπόθεσης\n",
        "Με πράσινο η υπόθεση που βρίσκει η κανονική εξίσωση, και με κόκκινο η υπόθεση που βρίσκει η επικλινής κάθοδος. Αν φανεί μόνο η πράσινη, σημαίνει πως κρύβει από κάτω της την κόκκινη."
      ]
    },
    {
      "cell_type": "code",
      "execution_count": null,
      "metadata": {
        "colab": {
          "base_uri": "https://localhost:8080/",
          "height": 447
        },
        "id": "mMhI2bnFBa-t",
        "outputId": "22f62b0f-74b3-4b12-8df9-16b53f5a437f"
      },
      "outputs": [
        {
          "data": {
            "text/plain": [
              "[<matplotlib.lines.Line2D at 0x7cd2dbb7e990>]"
            ]
          },
          "execution_count": 11,
          "metadata": {},
          "output_type": "execute_result"
        },
        {
          "data": {
            "image/png": "[encoded data removed]",
            "text/plain": [
              "<Figure size 640x480 with 1 Axes>"
            ]
          },
          "metadata": {},
          "output_type": "display_data"
        }
      ],
      "source": [
        "plt.scatter(x=x1,y=y)\n",
        "x_values = np.linspace(0, 2, 100)\n",
        "y_values = theta[0] + theta[1]*x_values\n",
        "y_values_opt = theta_opt[0] + theta_opt[1]*x_values\n",
        "plt.plot(x_values, y_values, color='red')\n",
        "plt.plot(x_values, y_values_opt, color='green')"
      ]
    },
    {
      "cell_type": "markdown",
      "metadata": {
        "id": "VessA3TpzPe9"
      },
      "source": [
        "# Learning Rate / Ρυθμός μάθησης"
      ]
    },
    {
      "cell_type": "markdown",
      "metadata": {
        "id": "UvPWMREzJNDo"
      },
      "source": [
        "Συνθετικά δεδομένα"
      ]
    },
    {
      "cell_type": "code",
      "execution_count": null,
      "metadata": {
        "id": "4oyGYTvIJMiO"
      },
      "outputs": [],
      "source": [
        "# Creating random X and y\n",
        "x1 = 2 * np.random.rand(200, 1)\n",
        "x2 = 2 * np.random.rand(200, 1)\n",
        "y = 4 + 3 * x1 + 5 * x2 + np.random.randn(200, 1)\n",
        "X = np.concatenate((np.ones((x1.shape[0],1)), x1, x2), axis=1)"
      ]
    },
    {
      "cell_type": "markdown",
      "metadata": {
        "id": "2ueERlj-nF4I"
      },
      "source": [
        "Εναλλακτικά πραγματικά δεδομένα"
      ]
    },
    {
      "cell_type": "code",
      "execution_count": null,
      "metadata": {
        "colab": {
          "base_uri": "https://localhost:8080/"
        },
        "id": "qBAi2aLokvHU",
        "outputId": "b9be8f2d-d950-4e88-a777-4dcd667e5b74"
      },
      "outputs": [
        {
          "name": "stdout",
          "output_type": "stream",
          "text": [
            "(442, 10) (442,)\n",
            "['age', 'sex', 'bmi', 'bp', 's1', 's2', 's3', 's4', 's5', 's6']\n",
            "[[ 0.03807591  0.05068012  0.06169621  0.02187239 -0.0442235  -0.03482076\n",
            "  -0.04340085 -0.00259226  0.01990749 -0.01764613]\n",
            " [-0.00188202 -0.04464164 -0.05147406 -0.02632753 -0.00844872 -0.01916334\n",
            "   0.07441156 -0.03949338 -0.06833155 -0.09220405]\n",
            " [ 0.08529891  0.05068012  0.04445121 -0.00567042 -0.04559945 -0.03419447\n",
            "  -0.03235593 -0.00259226  0.00286131 -0.02593034]\n",
            " [-0.08906294 -0.04464164 -0.01159501 -0.03665608  0.01219057  0.02499059\n",
            "  -0.03603757  0.03430886  0.02268774 -0.00936191]\n",
            " [ 0.00538306 -0.04464164 -0.03638469  0.02187239  0.00393485  0.01559614\n",
            "   0.00814208 -0.00259226 -0.03198764 -0.04664087]]\n",
            "[151.  75. 141. 206. 135.]\n"
          ]
        }
      ],
      "source": [
        "from sklearn.datasets import load_diabetes\n",
        "diabetes = load_diabetes()\n",
        "print(diabetes.data.shape, diabetes.target.shape)\n",
        "print(diabetes.feature_names)\n",
        "print(diabetes.data[:5])\n",
        "print(diabetes.target[:5])\n",
        "X = np.concatenate((np.ones((diabetes.data.shape[0],1)), diabetes.data), axis=1)\n",
        "y = diabetes.target"
      ]
    },
    {
      "cell_type": "code",
      "execution_count": null,
      "metadata": {
        "colab": {
          "base_uri": "https://localhost:8080/",
          "height": 740
        },
        "id": "c-bQpgOzzS0J",
        "outputId": "20c8c3c4-5a51-4cc6-abda-04dcfc353f88"
      },
      "outputs": [
        {
          "data": {
            "image/png": "[encoded data removed]",
            "text/plain": [
              "<Figure size 640x480 with 1 Axes>"
            ]
          },
          "metadata": {},
          "output_type": "display_data"
        },
        {
          "name": "stdout",
          "output_type": "stream",
          "text": [
            "3.8752133670868877e-10\n",
            "3.2090641931051043e-10\n",
            "2.6574260629998994e-10\n",
            "2.6574260629998994e-10\n",
            "[[ 1.50999999e+02  7.49999995e+01  1.40999999e+02 ...  1.31999999e+02\n",
            "   2.19999999e+02  5.69999996e+01]\n",
            " [-6.05765435e-17  1.01200486e-17  5.91417594e-17 ...  2.48769987e-17\n",
            "  -1.13907271e-18 -2.40340264e-17]\n",
            " [ 2.00053396e-15  8.70231523e-16  1.83621382e-15 ...  1.66320797e-15\n",
            "   2.84428835e-15  6.06144936e-16]\n",
            " ...\n",
            " [-8.44277708e-16 -6.55419347e-16 -1.34261031e-15 ... -9.98222481e-16\n",
            "  -1.43353042e-15 -5.22002413e-16]\n",
            " [ 1.38363102e-14  6.97720779e-15  1.31081305e-14 ...  1.22641617e-14\n",
            "   2.06601714e-14  5.29816647e-15]\n",
            " [ 1.67748884e-15  8.16390418e-16  1.57529388e-15 ...  1.53260036e-15\n",
            "   2.43329261e-15  6.09389224e-16]]\n"
          ]
        }
      ],
      "source": [
        "import numpy as np\n",
        "import matplotlib.pyplot as plt\n",
        "from IPython.display import display, clear_output\n",
        "\n",
        "# Enable interactive mode\n",
        "plt.ion()\n",
        "\n",
        "fig, ax = plt.subplots()\n",
        "x_data, y_data = [], []\n",
        "\n",
        "#learning_rate = 0.0009 # synthetic slow\n",
        "#learning_rate = 0.009 # real slow, synthetic ok (good go faster)\n",
        "learning_rate = 0.09 # real ok (good go faster), synthetic ok\n",
        "#learning_rate = 0.65 # sythetic diverging\n",
        "num_iterations = 200\n",
        "theta = np.zeros((X.shape[1],1))\n",
        "max_cost = 0\n",
        "for i in range(num_iterations):\n",
        "  theta = theta - learning_rate*(1/X.shape[0])*(X.T @ (X @ theta - y))\n",
        "  cost = 0.5*(1/X.shape[0])*np.sum((X @ theta - y)**2)\n",
        "  if (cost > max_cost):\n",
        "    max_cost = cost\n",
        "  print(cost)\n",
        "\n",
        "\n",
        "  #if (True):\n",
        "  if (i % 4 == 0):\n",
        "    x_data.append(i)\n",
        "    y_data.append(cost)\n",
        "\n",
        "    # Clear previous figure\n",
        "    clear_output(wait=True)\n",
        "\n",
        "    # Plot new data\n",
        "    ax.clear()  # Clear ax data\n",
        "    ax.plot(x_data, y_data)\n",
        "    ax.set_xlim(0, i)\n",
        "    ax.set_ylim(0, max_cost)\n",
        "\n",
        "    # Display the figure\n",
        "    display(fig)\n",
        "\n",
        "    plt.pause(0.1)  # Small interval to simulate real-time data plotting\n",
        "\n",
        "print(cost)\n",
        "print(theta)"
      ]
    },
    {
      "cell_type": "markdown",
      "metadata": {
        "id": "vKthnVh9MH8e"
      },
      "source": [
        "# Κλιμάκωση και προτυποποίηση"
      ]
    },
    {
      "cell_type": "markdown",
      "metadata": {
        "id": "M0kCZDlFS9GG"
      },
      "source": [
        "Δεδομένα"
      ]
    },
    {
      "cell_type": "code",
      "execution_count": null,
      "metadata": {
        "id": "mpURHJnWMMvy"
      },
      "outputs": [],
      "source": [
        "# Creating random X and y\n",
        "x1 = 2 * np.random.rand(200, 1)\n",
        "x2 = 100 * np.random.rand(200, 1)\n",
        "y = 4 + 3 * x1 + 5 * x2 + np.random.randn(200, 1)\n",
        "X = np.concatenate((np.ones((x1.shape[0],1)), x1, x2), axis=1)"
      ]
    },
    {
      "cell_type": "markdown",
      "metadata": {
        "id": "MMMnpQapS7iW"
      },
      "source": [
        "Κλιμάκωση"
      ]
    },
    {
      "cell_type": "code",
      "execution_count": null,
      "metadata": {
        "id": "TcvypyhNOHSZ"
      },
      "outputs": [],
      "source": [
        "from sklearn.preprocessing import MinMaxScaler\n",
        "scaler = MinMaxScaler()\n",
        "scaler.fit(x1)\n",
        "x1 = scaler.transform(x1)\n",
        "scaler.fit(x2)\n",
        "x2 = scaler.transform(x2)\n",
        "y = 4 + 3 * x1 + 5 * x2 + np.random.randn(200, 1)\n",
        "X = np.concatenate((np.ones((x1.shape[0],1)), x1, x2), axis=1)"
      ]
    },
    {
      "cell_type": "markdown",
      "metadata": {
        "id": "Tk_1DO_9S_Ot"
      },
      "source": [
        "Προτυποποίηση"
      ]
    },
    {
      "cell_type": "code",
      "execution_count": null,
      "metadata": {
        "id": "yyaU_7h_S_ZN"
      },
      "outputs": [],
      "source": [
        "from sklearn.preprocessing import StandardScaler\n",
        "scaler = StandardScaler()\n",
        "scaler.fit(x1)\n",
        "x1 = scaler.transform(x1)\n",
        "scaler.fit(x2)\n",
        "x2 = scaler.transform(x2)\n",
        "y = 4 + 3 * x1 + 5 * x2 + np.random.randn(200, 1)\n",
        "X = np.concatenate((np.ones((x1.shape[0],1)), x1, x2), axis=1)"
      ]
    },
    {
      "cell_type": "code",
      "execution_count": null,
      "metadata": {
        "colab": {
          "base_uri": "https://localhost:8080/",
          "height": 504
        },
        "id": "1tC2hLlNMZGw",
        "outputId": "a9c13577-fd63-4a41-d584-966ec9a81873"
      },
      "outputs": [
        {
          "data": {
            "image/png": "[encoded data removed]",
            "text/plain": [
              "<Figure size 640x480 with 1 Axes>"
            ]
          },
          "metadata": {},
          "output_type": "display_data"
        },
        {
          "name": "stdout",
          "output_type": "stream",
          "text": [
            "0.44985918941979963\n",
            "[[3.93667357]\n",
            " [3.05136145]\n",
            " [5.07218443]]\n"
          ]
        }
      ],
      "source": [
        "import numpy as np\n",
        "import matplotlib.pyplot as plt\n",
        "from IPython.display import display, clear_output\n",
        "\n",
        "# Enable interactive mode\n",
        "plt.ion()\n",
        "\n",
        "fig, ax = plt.subplots()\n",
        "x_data, y_data = [], []\n",
        "\n",
        "\n",
        "#learning_rate = 0.0009 # without scaling diverge\n",
        "#learning_rate = 0.00009 # without scaling\n",
        "learning_rate = 0.09 # with scaling\n",
        "\n",
        "num_iterations = 200\n",
        "theta = np.zeros((X.shape[1],1))\n",
        "for i in range(num_iterations):\n",
        "  theta = theta - learning_rate*(1/X.shape[0])*(X.T @ (X @ theta - y))\n",
        "  cost = 0.5*(1/X.shape[0])*np.sum((X @ theta - y)**2)\n",
        "  if (i == 0):\n",
        "    cost0 = cost\n",
        "  #print(cost)\n",
        "\n",
        "  if (i % 10 == 0):\n",
        "    x_data.append(i)\n",
        "    y_data.append(cost)\n",
        "\n",
        "    # Clear previous figure\n",
        "    clear_output(wait=True)\n",
        "\n",
        "    # Plot new data\n",
        "    ax.clear()  # Clear ax data\n",
        "    ax.plot(x_data, y_data)\n",
        "    ax.set_xlim(0, i)\n",
        "    ax.set_ylim(0, max(100,cost0,cost))\n",
        "\n",
        "    # Display the figure\n",
        "    display(fig)\n",
        "\n",
        "    plt.pause(0.1)  # Small interval to simulate real-time data plotting\n",
        "\n",
        "print(cost)\n",
        "print(theta)"
      ]
    }
  ],
  "metadata": {
    "colab": {
      "provenance": [],
      "toc_visible": true
    },
    "kernelspec": {
      "display_name": "mlenv",
      "language": "python",
      "name": "python3"
    },
    "language_info": {
      "codemirror_mode": {
        "name": "ipython",
        "version": 3
      },
      "file_extension": ".py",
      "mimetype": "text/x-python",
      "name": "python",
      "nbconvert_exporter": "python",
      "pygments_lexer": "ipython3",
      "version": "3.13.2"
    }
  },
  "nbformat": 4,
  "nbformat_minor": 0
}
